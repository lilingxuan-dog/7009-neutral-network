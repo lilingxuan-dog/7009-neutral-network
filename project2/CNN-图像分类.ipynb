{
 "cells": [
  {
   "cell_type": "markdown",
   "source": [
    "# Convolutional Neural Network for CIFAR-10\n",
    "*MC25905 LI Lingxuan*"
   ],
   "metadata": {
    "collapsed": false
   }
  },
  {
   "cell_type": "markdown",
   "source": [
    "## 1.测试GPU是否可以使用\n",
    "使用的CIFAR-10数据集，该数据集的图像大小为32x32x3。在训练过程中最好使用GPU来加快训练过程，而非CPU"
   ],
   "metadata": {
    "collapsed": false
   }
  },
  {
   "cell_type": "code",
   "execution_count": 1,
   "outputs": [
    {
     "name": "stdout",
     "output_type": "stream",
     "text": [
      "CUDA is not available.\n"
     ]
    }
   ],
   "source": [
    "import torch\n",
    "import numpy as np\n",
    "\n",
    "# 是否可以使用GPU进行训练\n",
    "train_gpu = torch.cuda.is_available()\n",
    "if not train_gpu:\n",
    "    print('CUDA is not available.')\n",
    "else:\n",
    "    print('CUDA is available!')"
   ],
   "metadata": {
    "collapsed": false
   }
  },
  {
   "cell_type": "markdown",
   "source": [
    "使用设备是笔记本电脑YOGA14s锐龙标压核显版（旧款）：处理器为R7-4800H，无独立显卡，为Vega核显。没有独立显卡，无法使用GPU。"
   ],
   "metadata": {
    "collapsed": false
   }
  },
  {
   "cell_type": "markdown",
   "source": [
    "## 2.下载CIFAR-10数据集\n",
    "该数据集是一个用于识别普适物体的小型数据集。一共包含10个类别的RGB彩色图片，飞机（ airplane ）、汽车（ automobile ）、鸟类（ bird ）、猫（ cat ）、鹿（ deer ）、狗（ dog ）、蛙类（ frog ）、马（ horse ）、船（ ship ）和卡车（ truck ）。图片的尺寸为 32×32 ，数据集中一共有 50000 张训练图片和 10000 张测试图片。\n",
    "下图是列举了10各类，每一类展示随机的10张图片。\n"
   ],
   "metadata": {
    "collapsed": false
   }
  },
  {
   "cell_type": "markdown",
   "source": [
    "![](https://raw.githubusercontent.com/lilingxuan-dog/7009-neutral-network/main/project2/%E5%9B%BE%E7%89%871.png)"
   ],
   "metadata": {
    "collapsed": false
   }
  },
  {
   "cell_type": "code",
   "execution_count": 4,
   "outputs": [
    {
     "name": "stdout",
     "output_type": "stream",
     "text": [
      "Files already downloaded and verified\n",
      "Files already downloaded and verified\n"
     ]
    }
   ],
   "source": [
    "# 加载训练和测试数据，将训练数据分为训练集和验证集\n",
    "from torchvision import datasets\n",
    "import torchvision.transforms as transforms\n",
    "from torch.utils.data.sampler import SubsetRandomSampler\n",
    "\n",
    "#加载数据\n",
    "num_workers = 0\n",
    "#每批加载16张图片\n",
    "batch_size = 16\n",
    "# percentage of training set to use as validation\n",
    "valid_size = 0.2\n",
    "\n",
    "#将数据转换为torch.FloatTensor,并标准化\n",
    "transform = transforms.Compose([\n",
    "    transforms.ToTensor(),\n",
    "    transforms.Normalize((0.5,0.5,0.5),(0.5,0.5,0.5))\n",
    "])\n",
    "\n",
    "#选择对应训练集与测试集的数据\n",
    "train_data = datasets.CIFAR10(\n",
    "    'data',train=True,\n",
    "    download=True,transform=transform\n",
    ")\n",
    "test_data = datasets.CIFAR10(\n",
    "    'data',train=False,download=True,transform=transform\n",
    ")\n",
    "\n",
    "#获取将用于验证的训练指标\n",
    "num_train = len(train_data)\n",
    "indices = list(range(num_train))\n",
    "np.random.shuffle(indices)\n",
    "split = int (np.floor(valid_size*num_train))\n",
    "train_idx,valid_idx = indices[split:],indices[:split]\n",
    "\n",
    "#define samplers for obtaining training and validation batches\n",
    "train_sampler = SubsetRandomSampler(train_idx)\n",
    "valid_sampler = SubsetRandomSampler(valid_idx)\n",
    "\n",
    "#对数据进行装载，利用batch_size来确认每个包的大小\n",
    "train_loader = torch.utils.data.DataLoader(train_data,batch_size=batch_size,\n",
    "                                           sampler=train_sampler,num_workers=num_workers)\n",
    "valid_loader = torch.utils.data.DataLoader(train_data,batch_size=batch_size,\n",
    "                                           sampler=valid_sampler,num_workers=num_workers)\n",
    "test_loader = torch.utils.data.DataLoader(test_data,batch_size=batch_size,\n",
    "                                          num_workers=num_workers)\n",
    "\n",
    "#图像分类为10个类别\n",
    "img_class = ['airplane','automobile','bird','cat','deer','dog','frog','horse','ship','truck']\n",
    "\n",
    "\n",
    "examples = iter(test_loader)\n",
    "images, labels = examples.next()\n"
   ],
   "metadata": {
    "collapsed": false
   }
  },
  {
   "cell_type": "markdown",
   "source": [
    "## 3.搭建卷积神经网络\n",
    "在pytorch中使用nn.Conv2d定义卷积层，并指定以下参数：\n",
    "nn.Conv2d(in_channels, out_channels, kernel_size, stride=1,padding=1)\n",
    "\n",
    "- in_channels 是指输入深度。输入图像中的通道数，对于灰阶图像来说，深度 = 1\n",
    "- out_channels 是指输出深度，卷积产生的通道数，或你希望获得的过滤图像数量\n",
    "- kernel_size 是卷积核的大小（通常为 3，表示 3x3 核）\n",
    "- stride 和 padding 具有默认值：stride=1，padding=0.但是应该根据你希望输出在空间维度 x, y 里具有的大小设置它们的值。\n",
    "\n"
   ],
   "metadata": {
    "collapsed": false
   }
  },
  {
   "cell_type": "markdown",
   "source": [
    "### 为提高测试精度，改进模型从而缓解过拟合：\n",
    "- **加入Dropout** 让一部分的神经元不参加训练，随即丢掉一些神经元，从而防止过拟合，提高模型的泛化能力，"
   ],
   "metadata": {
    "collapsed": false
   }
  },
  {
   "cell_type": "code",
   "execution_count": 6,
   "outputs": [
    {
     "name": "stdout",
     "output_type": "stream",
     "text": [
      "CNN(\n",
      "  (conv1): Conv2d(3, 64, kernel_size=(3, 3), stride=(1, 1), padding=(1, 1))\n",
      "  (conv2): Conv2d(64, 128, kernel_size=(3, 3), stride=(1, 1), padding=(1, 1))\n",
      "  (conv3): Conv2d(128, 256, kernel_size=(3, 3), stride=(1, 1), padding=(1, 1))\n",
      "  (pool): MaxPool2d(kernel_size=2, stride=2, padding=0, dilation=1, ceil_mode=False)\n",
      "  (fc1): Linear(in_features=4096, out_features=512, bias=True)\n",
      "  (fc2): Linear(in_features=512, out_features=256, bias=True)\n",
      "  (fc3): Linear(in_features=256, out_features=10, bias=True)\n",
      "  (dropout): Dropout(p=0.5, inplace=False)\n",
      ")\n"
     ]
    }
   ],
   "source": [
    "import torch.nn as nn\n",
    "import torch.nn.functional as F\n",
    "\n",
    "# 搭建卷积神经网络\n",
    "class CNN(nn.Module):\n",
    "    def __init__(self):\n",
    "        super(CNN,self).__init__()\n",
    "        # 卷积层&池化层\n",
    "        #32x32x3\n",
    "        self.conv1 = nn.Conv2d(in_channels = 3, out_channels = 64, kernel_size = 3, stride=1,padding=1)\n",
    "\n",
    "        #16x16x64\n",
    "        self.conv2 = nn.Conv2d(in_channels = 64, out_channels = 128, kernel_size = 3, stride=1,padding=1)\n",
    "\n",
    "        #8x8x128\n",
    "        self.conv3 = nn.Conv2d(in_channels = 128, out_channels = 256, kernel_size = 3, stride=1,padding=1)\n",
    "        #池化层\n",
    "        self.pool = nn.MaxPool2d(2,2)\n",
    "        #全连接层\n",
    "        self.fc1 = nn.Linear(4 * 4 * 256, 512) # 输入4*4*256， 输出512\n",
    "        self.fc2 = nn.Linear(512, 256) # 输入512， 输出256\n",
    "        self.fc3 = nn.Linear(256, 10) # 输入256， 输出10（分10类）\n",
    "        self.dropout = nn.Dropout(0.5)\n",
    "\n",
    "\n",
    "    #前向计算\n",
    "    def forward(self, x):\n",
    "        x = self.pool(F.relu(self.conv1(x)))\n",
    "        x = self.pool(F.relu(self.conv2(x)))\n",
    "        x = self.pool(F.relu(self.conv3(x)))\n",
    "        # print(\"x_shape:\", x.size())\n",
    "        x = x.view(x.size()[0], -1)\n",
    "        x = self.dropout(x)\n",
    "        x = F.relu(self.fc1(x))\n",
    "        x = self.dropout(x)\n",
    "        x = F.relu(self.fc2(x))\n",
    "        x = self.dropout(x)\n",
    "        x = self.fc3(x)\n",
    "        return x\n",
    "\n",
    "# 实例化模型\n",
    "model = CNN()\n",
    "print(model)\n"
   ],
   "metadata": {
    "collapsed": false
   }
  },
  {
   "cell_type": "markdown",
   "source": [
    "## 4.训练卷积神经网络模型"
   ],
   "metadata": {
    "collapsed": false
   }
  },
  {
   "cell_type": "code",
   "execution_count": null,
   "outputs": [],
   "source": [
    "import torch.optim as optim\n",
    "import time\n",
    "\n",
    "# 设置模型的训练次数\n",
    "n_epochs = 30\n",
    "# 定义损失函数->交叉熵损失函数\n",
    "criterion = nn.CrossEntropyLoss()\n",
    "# 定义优化方法->随机梯度下降\n",
    "optimizer = optim.SGD(model.parameters(), lr=0.01)\n",
    "\n",
    "train_losses = []\n",
    "train_acces = []\n",
    "eval_losses = []\n",
    "eval_acces = []\n",
    "\n",
    "print(\"start training! \\nplease wait for minutes·····\")\n",
    "for epoch in range(n_epochs):\n",
    "    train_loss = 0.0\n",
    "    train_acc = 0.0\n",
    "\n",
    "    # 利用time获取epoch每运行一次所花费的时间\n",
    "    start_time = time.time()\n",
    "\n",
    "    ##### 训练集的模型 #####\n",
    "    model.train()\n",
    "    for data, target in train_loader:\n",
    "        # 梯度置0\n",
    "        optimizer.zero_grad()\n",
    "        # 正向传播+反向传播+优化\n",
    "        output = model(data)\n",
    "        loss = criterion(output, target)\n",
    "        loss.backward()\n",
    "        optimizer.step()\n",
    "\n",
    "        train_loss += loss\n",
    "\n",
    "\n",
    "    # 计算平均值\n",
    "    train_losses.append(train_loss / len(train_loader))\n",
    "\n",
    "    # 验证集的模型 #\n",
    "    eval_loss = 0.0\n",
    "    eval_acc = 0.0\n",
    "\n",
    "    model.eval()\n",
    "    for data, target in valid_loader:\n",
    "        output = model(data)\n",
    "        loss = criterion(output, target)\n",
    "        eval_loss += loss\n",
    "\n",
    "    # 计算平均值\n",
    "    eval_acces.append(train_acc / len(test_loader))\n",
    "\n",
    "    # 输出显示训练集与验证集的损失函数\n",
    "    print('epoch:{}, Train Loss:{:.5f}, '\n",
    "          'Test Loss:{:.5f}'\n",
    "          .format(epoch, train_loss / len(train_loader),\n",
    "                  eval_loss / len(test_loader),\n",
    "                  ))\n",
    "    stop_time = time.time()\n",
    "    print(\"time is:{:.4f}s\".format(stop_time - start_time))\n"
   ],
   "metadata": {
    "collapsed": false
   }
  },
  {
   "cell_type": "markdown",
   "source": [
    "![](https://raw.githubusercontent.com/lilingxuan-dog/7009-neutral-network/main/project2/%E5%9B%BE%E7%89%873.png)"
   ],
   "metadata": {
    "collapsed": false
   }
  },
  {
   "cell_type": "markdown",
   "source": [
    "![](https://raw.githubusercontent.com/lilingxuan-dog/7009-neutral-network/main/project2/%E5%9B%BE%E7%89%874.png)"
   ],
   "metadata": {
    "collapsed": false
   }
  },
  {
   "cell_type": "markdown",
   "source": [
    "![](https://raw.githubusercontent.com/lilingxuan-dog/7009-neutral-network/main/project2/%E5%9B%BE%E7%89%875.png)\n",
    "由于测试时间较为慢长，基本每个epoch计算时间保持在2min左右，为节约时间将实验结果直接附上"
   ],
   "metadata": {
    "collapsed": false
   }
  },
  {
   "cell_type": "markdown",
   "source": [
    "## 5.类别模型准确率测试\n",
    "在测试数据上测试训练模型，该训练结果的准确性大约在81%"
   ],
   "metadata": {
    "collapsed": false
   }
  },
  {
   "cell_type": "code",
   "execution_count": null,
   "outputs": [],
   "source": [
    "# 测试模型\n",
    "test_loss = 0.0\n",
    "# 创建一个10维列表，存储后面每个类累积的值\n",
    "class_correct = list(0. for i in range(10))\n",
    "class_total = list(0. for i in range(10))\n",
    "\n",
    "model.eval()\n",
    "for data, target in test_loader:\n",
    "    output = model(data)\n",
    "    loss = criterion(output, target)\n",
    "    test_loss += loss\n",
    "    _, pred = torch.max(output, 1)\n",
    "    correct_tensor = pred.eq(target.data.view_as(pred))\n",
    "    correct = np.squeeze(correct_tensor.numpy())\n",
    "    for i in range(batch_size):\n",
    "        label = target.data[i]\n",
    "        class_correct[label] += correct[i].item()\n",
    "        class_total[label] += 1\n",
    "\n",
    "test_loss = test_loss/len(test_loader)\n",
    "print('Test Loss:{:.5f}\\n'.format(test_loss))\n",
    "print(\"End train.\")\n",
    "\n",
    "for i in range(10):\n",
    "    if class_total[i] > 0:\n",
    "        print('Test Acc of %5s: %2d%% (%2d/%2d)' % (\n",
    "            img_class[i], 100 * class_correct[i] / class_total[i],\n",
    "            np.sum(class_correct[i]), np.sum(class_total[i])))\n",
    "    else:\n",
    "        print('Test Acc of %5s: N/A (no training examples)' % (img_class[i]))\n",
    "\n",
    "print('\\nTest Acc (Overall): %2d%% (%2d/%2d)' % (\n",
    "    100. * np.sum(class_correct) / np.sum(class_total),\n",
    "    np.sum(class_correct), np.sum(class_total)))\n"
   ],
   "metadata": {
    "collapsed": false,
    "pycharm": {
     "is_executing": true
    }
   }
  },
  {
   "cell_type": "markdown",
   "source": [
    "![](https://raw.githubusercontent.com/lilingxuan-dog/7009-neutral-network/main/project2/%E5%9B%BE%E7%89%876.png)"
   ],
   "metadata": {
    "collapsed": false
   }
  },
  {
   "cell_type": "markdown",
   "source": [],
   "metadata": {
    "collapsed": false
   }
  }
 ],
 "metadata": {
  "kernelspec": {
   "display_name": "Python 3",
   "language": "python",
   "name": "python3"
  },
  "language_info": {
   "codemirror_mode": {
    "name": "ipython",
    "version": 2
   },
   "file_extension": ".py",
   "mimetype": "text/x-python",
   "name": "python",
   "nbconvert_exporter": "python",
   "pygments_lexer": "ipython2",
   "version": "2.7.6"
  }
 },
 "nbformat": 4,
 "nbformat_minor": 0
}
